{
  "nbformat": 4,
  "nbformat_minor": 0,
  "metadata": {
    "colab": {
      "name": "HW1_Desai_David.ipynb",
      "provenance": [],
      "collapsed_sections": []
    },
    "kernelspec": {
      "name": "python3",
      "display_name": "Python 3"
    }
  },
  "cells": [
    {
      "cell_type": "markdown",
      "metadata": {
        "id": "hm8RAKinXsIP"
      },
      "source": [
        "## **Homework 1**\n",
        "\n",
        "### Create a copy of the notebook to start answering the questions. Name your notebook in the format HW1_lastname_firstname.ipynb to facilitate the grading process. \n",
        "\n",
        "### Answer all the questions, test your code to ensure there are no errors and the results are as expected. Once you have answered all the questions, save the final copy, then go to File-> click on Download.ipynb. Once the local copy has been downloaded, submit your file on Blackboard under the corresponding assignment section. Also provide us a link to your notebook during submission. \n",
        "\n",
        "### **The due date of this homework is 02/05/2021 (Friday).**\n",
        "\n",
        "### Please ensure you follow all the steps mentioned in the homework.\n",
        "\n",
        "### All the questions have a sample input and output to help you understand the question. Please note that your programs will be tested for other sets of inputs and outputs along with the sample provided. So test your code for other inputs.\n",
        "\n",
        "### You can submit your solutions any number of times until the deadline.\n"
      ]
    },
    {
      "cell_type": "markdown",
      "metadata": {
        "id": "uacFrEaZfcfq"
      },
      "source": [
        "##### Q1. Write a program that prompts the user to enter a password then prints the length of the password.\n",
        "\n",
        "```\n",
        "Enter your password: hello\n",
        "Your password is 5 long.\n",
        "```\n",
        "\n",
        "\n"
      ]
    },
    {
      "cell_type": "code",
      "metadata": {
        "id": "avPyES14ftCt",
        "colab": {
          "base_uri": "https://localhost:8080/"
        },
        "outputId": "902228ec-d5f1-4106-8cbf-1077a85a9f5e"
      },
      "source": [
        "# Type solution here\n",
        "\n",
        "name = input(\"Enter your password: \")\n",
        "\n",
        "print(len(name))"
      ],
      "execution_count": 3,
      "outputs": [
        {
          "output_type": "stream",
          "text": [
            "Enter your password: John\n",
            "4\n"
          ],
          "name": "stdout"
        }
      ]
    },
    {
      "cell_type": "markdown",
      "metadata": {
        "id": "ekh-kABuItli"
      },
      "source": [
        ""
      ]
    },
    {
      "cell_type": "markdown",
      "metadata": {
        "id": "K1yko-xUItU3"
      },
      "source": [
        ""
      ]
    },
    {
      "cell_type": "markdown",
      "metadata": {
        "id": "behD0j_Of2TW"
      },
      "source": [
        "##### Q2. Write a program that prompts the user to enter their full name then prints the number of characters in their name (do not count spaces).\n",
        "\n",
        "```\n",
        "What is your name? Amulya Katti\n",
        "Amulya Katti your name has 11 characters.\n",
        "```"
      ]
    },
    {
      "cell_type": "code",
      "metadata": {
        "id": "XSdIRjwlhSlu",
        "colab": {
          "base_uri": "https://localhost:8080/"
        },
        "outputId": "66a208a5-9cae-4d16-882a-faa5f804ac90"
      },
      "source": [
        "# Type solution here\n",
        "\n",
        "question = input('What is your name? ')\n",
        "question1 = question.replace(\" \", '')\n",
        "length = len(question1) \n",
        "print(question + ' your name has ' + str(length) + ' characters.')\n"
      ],
      "execution_count": 25,
      "outputs": [
        {
          "output_type": "stream",
          "text": [
            "What is your name? David D\n",
            "David D your name has 6 characters.\n"
          ],
          "name": "stdout"
        }
      ]
    },
    {
      "cell_type": "markdown",
      "metadata": {
        "id": "5KHOWF6FhVHV"
      },
      "source": [
        "##### Q3. Write a program that prompts the user to enter a month (as a number), then prints the name of the month and the number of days in that month. Ensure that the user inputs a valid month and handle any error cases.\n",
        "\n",
        "```\n",
        "Enter the month number: 9\n",
        "September has 30 days\n",
        "```"
      ]
    },
    {
      "cell_type": "code",
      "metadata": {
        "id": "KhS-SAEThyTG",
        "colab": {
          "base_uri": "https://localhost:8080/"
        },
        "outputId": "4c483a57-24ee-437a-a961-32987003f7d9"
      },
      "source": [
        "# Type solution here\n",
        "\n",
        "months = [1, 2, 3, 4, 5, 6, 7, 8, 9, 10, 11, 12]\n",
        "month = int(input('Enter the month number: '))\n",
        "while month not in months:\n",
        "  print('Please enter a valid month number!')\n",
        "  month = int(input('Enter the month number: '))\n",
        "monthDict = {1: 'January', 2: 'February', 3: 'March', 4: 'April', 5: 'May', 6: 'June', 7: 'July', 8: 'August', 9: 'September', 10: 'October', 11: 'November', 12: 'December'}\n",
        "dayDict = {1: 31, 2: 28, 3: 31, 4: 30, 5: 31, 6: 30, 7: 31, 8: 31, 9: 30, 10: 31, 11: 30, 12: 31}\n",
        "\n",
        "print(monthDict[month] + ' has ' + str(dayDict[month]) + \" days.\")"
      ],
      "execution_count": 29,
      "outputs": [
        {
          "output_type": "stream",
          "text": [
            "Enter the month number: 1\n",
            "January has 31 days.\n"
          ],
          "name": "stdout"
        }
      ]
    },
    {
      "cell_type": "markdown",
      "metadata": {
        "id": "O7lnAdGlh6Xa"
      },
      "source": [
        "##### Q4. Write a program that prompts the user to enter a loan amount, annual interest rate, and number of years  for a car loan. Then calculate and print the monthly payment amount.\n",
        "\n",
        "Note:\n",
        "```\n",
        "PMT= [PV*i*((1+i)^n)]/((1+i)^n)-1\n",
        "```\n",
        "PMT is the monthly payment\n",
        "\n",
        "PV is the loan amount\n",
        "\n",
        "i is the interest rate per month in decimal form (interest rate percentage divided by 12)\n",
        "\n",
        "n is the number of months (term of the loan in months)\n",
        "\n",
        "```\n",
        "Loan Amount: 30000.00\n",
        "Annual Interest Rate: 4.00\n",
        "Years: 5\n",
        "Your monthly payment is: $552.50\n",
        "```"
      ]
    },
    {
      "cell_type": "code",
      "metadata": {
        "id": "p4B5JH5GiTs9",
        "colab": {
          "base_uri": "https://localhost:8080/"
        },
        "outputId": "59fb9cff-69f9-4567-f66d-483ed28f38f5"
      },
      "source": [
        "# Type solution here\n",
        "loanAmount = float(input('Loan Amount: '))\n",
        "ir = float(input('Annual Interest Rate: '))\n",
        "interestRate = ir / 1200\n",
        "years  = int(input('Years: '))\n",
        "years = years * 12\n",
        "PMT= loanAmount * (interestRate * (1 + interestRate) ** years) / ((1 + interestRate) ** years - 1)\n",
        "print('Your monthly payment is: $' + str(PMT))"
      ],
      "execution_count": 1,
      "outputs": [
        {
          "output_type": "stream",
          "text": [
            "Loan Amount: 30000\n",
            "Annual Interest Rate: 4\n",
            "Years: 5\n",
            "Your monthly payment is: $552.4956616579792\n"
          ],
          "name": "stdout"
        }
      ]
    },
    {
      "cell_type": "markdown",
      "metadata": {
        "id": "SjiolJKgiWV-"
      },
      "source": [
        "##### Q5. Write a program to that prompts the user to enter a string. Then check whether or not the string is a palindrome.\n",
        "\n",
        "```\n",
        "Enter a string: Madam\n",
        "Madam, is a palindrome!\n",
        "```"
      ]
    },
    {
      "cell_type": "code",
      "metadata": {
        "id": "F5_M934Ri0es",
        "colab": {
          "base_uri": "https://localhost:8080/"
        },
        "outputId": "75bcb0be-fe25-4219-ceed-e2e92bfe0a7f"
      },
      "source": [
        "# Type solution here\n",
        "\n",
        "word = input('Enter a string: ')\n",
        "wordLower = word.lower()\n",
        "newWordList = list(reversed(wordLower))\n",
        "delim = ''\n",
        "newWord = delim.join(newWordList)\n",
        "if newWord == wordLower:\n",
        "  print(word + ' is a palindrome!')\n",
        "else:\n",
        "  print(word + ' is not a palindrome!')"
      ],
      "execution_count": 8,
      "outputs": [
        {
          "output_type": "stream",
          "text": [
            "Enter a string: Madam\n",
            "Madam is a palindrome!\n"
          ],
          "name": "stdout"
        }
      ]
    },
    {
      "cell_type": "markdown",
      "metadata": {
        "id": "BLBD6n9vkJEu"
      },
      "source": [
        "##### Q6. Write a program to compute and print all possible combinations of change for \\$1. Denominations to be considered – quarter, dime, nickel, penny.\n",
        "\n",
        "Hint: Use nested loops (loops within loops for the various denominations of coins)\n",
        "\n",
        "```\n",
        "Change for $1:\n",
        "0 quarters, 0 dimes, 0 nickels, 100 pennies\n",
        "…\n",
        "4 quarters, 0 dimes, 0 nickels, 0 pennies\n",
        "```"
      ]
    },
    {
      "cell_type": "code",
      "metadata": {
        "id": "kAQsTjwDkZZ5"
      },
      "source": [
        "# Type solution here\n",
        "for quarter in range(0,5):\n",
        "  for dime in range(0,11):\n",
        "    for nickel in range(0, 21):\n",
        "      for penny in range(0, 101):\n",
        "        if 25 * quarter + 10 * dime + 5 * nickel + penny == 100:\n",
        "          print(str(quarter) + ' quarters, ' + str(dime) + ' dimes, ' + str(nickel) + ' nickels, ' + str(penny) + ' pennies')\n",
        "         \n",
        "\n",
        "  \n",
        "\n",
        "\n",
        "\n",
        "\n"
      ],
      "execution_count": null,
      "outputs": []
    },
    {
      "cell_type": "markdown",
      "metadata": {
        "id": "rUPDjYiIkbgs"
      },
      "source": [
        "##### Q7. Ask the user to enter two positive integers between 1 and 100. Read those integers. Then output a multiplication table of the first number times the second number. \n",
        "\n",
        "Note: You have to ensure the entered numbers are between 1 and 100 only.\n",
        "\n",
        "```\n",
        "Please enter an integer: 5\n",
        "Please enter another integer: 20\n",
        "5 x 1 = 5\n",
        "5 x 2 = 10\n",
        "5 x 3 = 15\n",
        "…\n",
        "5 x 20 = 100\n",
        "```"
      ]
    },
    {
      "cell_type": "code",
      "metadata": {
        "id": "Qg0Orv1klHzA",
        "colab": {
          "base_uri": "https://localhost:8080/"
        },
        "outputId": "b6185ad6-3987-4abc-f60b-76ec8f2acbc6"
      },
      "source": [
        "# Type solution here\n",
        "\n",
        "num1 = int(input('Please enter a number: '))\n",
        "num2 = int(input('Please enter another number: '))\n",
        "\n",
        "while ((num1 < 1 or num1  > 100) and (num2 < 1 or num2 > 100)):\n",
        "  print(\"plese enter a valid number! \")\n",
        "  num1 = int(input('Please enter a number: '))\n",
        "  num2 = int(input('Please enter another number: '))\n",
        "\n",
        "for num in range(num2):\n",
        "  sol = (num + 1) * num1\n",
        "  print(str(num1) +  \" x \" + str(num+1) + ' = ' + str(sol))"
      ],
      "execution_count": 9,
      "outputs": [
        {
          "output_type": "stream",
          "text": [
            "Please enter a number: 5\n",
            "Please enter another number: 20\n",
            "5 x 1 = 5\n",
            "5 x 2 = 10\n",
            "5 x 3 = 15\n",
            "5 x 4 = 20\n",
            "5 x 5 = 25\n",
            "5 x 6 = 30\n",
            "5 x 7 = 35\n",
            "5 x 8 = 40\n",
            "5 x 9 = 45\n",
            "5 x 10 = 50\n",
            "5 x 11 = 55\n",
            "5 x 12 = 60\n",
            "5 x 13 = 65\n",
            "5 x 14 = 70\n",
            "5 x 15 = 75\n",
            "5 x 16 = 80\n",
            "5 x 17 = 85\n",
            "5 x 18 = 90\n",
            "5 x 19 = 95\n",
            "5 x 20 = 100\n"
          ],
          "name": "stdout"
        }
      ]
    },
    {
      "cell_type": "markdown",
      "metadata": {
        "id": "SbnbPUPTlLD9"
      },
      "source": [
        "##### Q8. Write a program to ask the user to enter a password. Then check to see if it is a valid password based on these requirements -\n",
        "\n",
        "Must be at least 8 characters long\n",
        "\n",
        "Must contain both uppercase and lowercase letters\n",
        "\n",
        "Must contain at least one number between 0-9\n",
        "\n",
        "Must contain a special character -!,@,#,$\n",
        "\n",
        "If the password is not valid, ask the user to re-enter. This should continue until the user enters a valid password. After a valid password is entered, print Access Granted!\n",
        "\n",
        "```\n",
        "Please enter a password. Follow these requirements - \n",
        "a. Must be at least 8 characters long\n",
        "b. Must contain both uppercase and lowercase letters\n",
        "c. Must contain at least one number between 0-9\n",
        "d. Must contain a special character -!,@,#,$\n",
        "Password: HelloWorld1\n",
        "Invalid password. Try again!\n",
        "Password: Hello@World1\n",
        "Access Granted!\n",
        "```\n"
      ]
    },
    {
      "cell_type": "code",
      "metadata": {
        "id": "OXmZ177Rl-RV",
        "colab": {
          "base_uri": "https://localhost:8080/"
        },
        "outputId": "eb0b2c9c-4dd2-404d-89c3-ae91ac4df8fd"
      },
      "source": [
        "# Type solution here\n",
        "\n",
        "#password = input('Please enter a password. Follow These requirements - \\na. Must be at least 8 characters long \\nb. Must contain both uppercase and lowercase letters\n",
        "#'\\nc. Must contain at least one number between 0-9 \\nd. Must contain a special character -!,@,#,$ \\nPassword: ')\n",
        "special = ['#', '$', '@', '!']\n",
        "password = input('Password: ')\n",
        "mixed_case = not password.islower() and not password.isupper()\n",
        "hasDigit = False \n",
        "hasSpecial = False\n",
        "if any(c in special for c in password):\n",
        "  hasSpecial = True\n",
        "for char in password:\n",
        "  if char.isdigit() == True:\n",
        "    hasDigit = True\n",
        "while(len(password) < 8 or mixed_case == False or hasDigit == False or hasSpecial == False):\n",
        "  print('Invalid password. Try again!')\n",
        "  password = input('password: ')\n",
        "print(\"Access Granted!\")"
      ],
      "execution_count": 31,
      "outputs": [
        {
          "output_type": "stream",
          "text": [
            "Password: Hello@World1\n",
            "Access Granted!\n"
          ],
          "name": "stdout"
        }
      ]
    },
    {
      "cell_type": "markdown",
      "metadata": {
        "id": "-0sdutTDnTKA"
      },
      "source": [
        "##### Q9. Given the score sheet of participants in a competition, you are required to find the runner-up score. You are given scores in a list. Find the score of the runner-up.\n",
        "\n",
        "```\n",
        "list1 - [2, 3, 6, 6, 5]\n",
        "runner_up - 5\n",
        "\n",
        "list2 - [1, 7, 5, 3, 10, 4, 5, 5, 6, 11]\n",
        "runner_up - 10\n",
        "```"
      ]
    },
    {
      "cell_type": "code",
      "metadata": {
        "id": "12YP9OaqpGRK",
        "colab": {
          "base_uri": "https://localhost:8080/"
        },
        "outputId": "e772cd90-fa0a-4f34-abab-c6f2c3b87471"
      },
      "source": [
        "# Type solution here\n",
        "\n",
        "list1 = [1, 7, 5, 3, 10, 4, 5, 5, 6, 11]\n",
        "list2 = []\n",
        "for num in range(len(list1)):\n",
        "  if list1[num] not in list2:\n",
        "    list2.append(list1[num])\n",
        "list2.sort()\n",
        "print(list2[len(list2)-2])\n",
        "\n",
        "\n"
      ],
      "execution_count": 15,
      "outputs": [
        {
          "output_type": "stream",
          "text": [
            "10\n"
          ],
          "name": "stdout"
        }
      ]
    }
  ]
}